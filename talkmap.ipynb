{
 "cells": [
  {
   "cell_type": "markdown",
   "metadata": {},
   "source": [
    "# Leaflet cluster map of talk locations\n",
    "\n",
    "Run this from the _talks/ directory, which contains .md files of all your talks. This scrapes the location YAML field from each .md file, geolocates it with geopy/Nominatim, and uses the getorg library to output data, HTML, and Javascript for a standalone cluster map."
   ]
  },
  {
   "cell_type": "code",
   "execution_count": 16,
   "metadata": {},
   "outputs": [
    {
     "name": "stdout",
     "output_type": "stream",
     "text": [
      "Collecting getorg\n",
      "  Using cached https://files.pythonhosted.org/packages/d8/81/842a17df2892d8f357929a3a937d30f36bd11998b31b75e663515e24bf50/getorg-0.3.1-py2.py3-none-any.whl\n",
      "Collecting retrying (from getorg)\n",
      "Collecting geopy (from getorg)\n",
      "  Using cached https://files.pythonhosted.org/packages/9b/1b/f63484e2c257a79f9fed6243f638d0fc50566428b87994dbf2cdf681a05e/geopy-1.14.0-py2.py3-none-any.whl\n",
      "Collecting pygithub (from getorg)\n",
      "Collecting six>=1.7.0 (from retrying->getorg)\n",
      "  Using cached https://files.pythonhosted.org/packages/67/4b/141a581104b1f6397bfa78ac9d43d8ad29a7ca43ea90a2d863fe3056e86a/six-1.11.0-py2.py3-none-any.whl\n",
      "Collecting geographiclib<2,>=1.49 (from geopy->getorg)\n",
      "Collecting pyjwt (from pygithub->getorg)\n",
      "  Using cached https://files.pythonhosted.org/packages/93/d1/3378cc8184a6524dc92993090ee8b4c03847c567e298305d6cf86987e005/PyJWT-1.6.4-py2.py3-none-any.whl\n",
      "Installing collected packages: six, retrying, geographiclib, geopy, pyjwt, pygithub, getorg\n",
      "Successfully installed geographiclib-1.49 geopy-1.14.0 getorg-0.3.1 pygithub-1.35 pyjwt-1.6.4 retrying-1.3.3 six-1.11.0\n",
      "\u001b[33mYou are using pip version 8.1.1, however version 10.0.1 is available.\n",
      "You should consider upgrading via the 'pip install --upgrade pip' command.\u001b[0m\n"
     ]
    }
   ],
   "source": [
    "!pip3 install getorg --upgrade\n",
    "import glob\n",
    "import getorg\n",
    "from geopy import Nominatim"
   ]
  },
  {
   "cell_type": "code",
   "execution_count": 17,
   "metadata": {},
   "outputs": [],
   "source": [
    "g = glob.glob(\"_talks/*.md\")"
   ]
  },
  {
   "cell_type": "code",
   "execution_count": 18,
   "metadata": {},
   "outputs": [],
   "source": [
    "geocoder = Nominatim()\n",
    "location_dict = {}\n",
    "location = \"\"\n",
    "permalink = \"\"\n",
    "title = \"\""
   ]
  },
  {
   "cell_type": "code",
   "execution_count": 19,
   "metadata": {},
   "outputs": [
    {
     "name": "stdout",
     "output_type": "stream",
     "text": [
      "Biddeford, ME, United States of America \n",
      " Biddeford, York County, Maine, United States of America\n",
      "Groningen, The Netherlands \n",
      " Groningen, Nederland\n",
      "Sapporo, Japan \n",
      " 札幌市, 石狩振興局, 北海道, 北海道地方, 日本\n",
      "Heraklion, Greece \n",
      " Ηράκλειο, Δήμος Ηρακλείου, Περιφερειακή Ενότητα Ηρακλείου, Περιφέρεια Κρήτης, Κρήτη, 71201, Ελλάδα\n",
      "London, United Kingdom \n",
      " London, Greater London, England, SW1A 2DU, UK\n",
      "Liverpool, United Kingdom \n",
      " Liverpool, North West England, England, UK\n",
      "Mytilene, Greece \n",
      " Μυτιλήνη, Δήμος Λέσβου, Περιφερειακή Ενότητα Λέσβου, Περιφέρεια Βόρειου Αιγαίου, Αιγαίο, 81100, Ελλάδα\n",
      "Košice, Slovakia \n",
      " Košice, Košický kraj, Východné Slovensko, 04151, Slovensko\n",
      "Αθήνα, Ελλάδα \n",
      " Αθήνα, Δήμος Αθηναίων, Π.Ε. Κεντρικού Τομέα Αθηνών, Περιφέρεια Αττικής, Αττική, 10431, Ελλάδα\n"
     ]
    }
   ],
   "source": [
    "\n",
    "for file in g:\n",
    "    with open(file, 'r') as f:\n",
    "        lines = f.read()\n",
    "        if lines.find('location: \"') > 1:\n",
    "            loc_start = lines.find('location: \"') + 11\n",
    "            lines_trim = lines[loc_start:]\n",
    "            loc_end = lines_trim.find('\"')\n",
    "            location = lines_trim[:loc_end]\n",
    "            if location == \"Athens, Greece\":\n",
    "                location = \"Αθήνα, Ελλάδα\"\n",
    "                            \n",
    "           \n",
    "        location_dict[location] = geocoder.geocode(location)\n",
    "        print(location, \"\\n\", location_dict[location])\n"
   ]
  },
  {
   "cell_type": "code",
   "execution_count": 20,
   "metadata": {},
   "outputs": [
    {
     "data": {
      "text/plain": [
       "'Written map to talkmap/'"
      ]
     },
     "execution_count": 20,
     "metadata": {},
     "output_type": "execute_result"
    }
   ],
   "source": [
    "m = getorg.orgmap.create_map_obj()\n",
    "getorg.orgmap.output_html_cluster_map(location_dict, folder_name=\"talkmap\", hashed_usernames=False)"
   ]
  },
  {
   "cell_type": "code",
   "execution_count": null,
   "metadata": {},
   "outputs": [],
   "source": [
    "location_dict"
   ]
  }
 ],
 "metadata": {
  "anaconda-cloud": {},
  "kernelspec": {
   "display_name": "Python 3",
   "language": "python",
   "name": "python3"
  },
  "language_info": {
   "codemirror_mode": {
    "name": "ipython",
    "version": 3
   },
   "file_extension": ".py",
   "mimetype": "text/x-python",
   "name": "python",
   "nbconvert_exporter": "python",
   "pygments_lexer": "ipython3",
   "version": "3.5.2"
  }
 },
 "nbformat": 4,
 "nbformat_minor": 1
}
